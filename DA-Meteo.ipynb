{
 "cells": [
  {
   "cell_type": "code",
   "execution_count": 43,
   "id": "f9562417",
   "metadata": {},
   "outputs": [],
   "source": [
    "import numpy as np\n",
    "import pandas as pd\n",
    "import matplotlib.pyplot as mp"
   ]
  },
  {
   "cell_type": "code",
   "execution_count": 2,
   "id": "812d1007",
   "metadata": {},
   "outputs": [
    {
     "name": "stdout",
     "output_type": "stream",
     "text": [
      "            Date  temperatur_emax(°C)  prec_sum (mm)  rain_sum (mm)\n",
      "0     2017-11-18                  7.8            0.0            0.0\n",
      "1     2017-11-19                  6.1            2.7            2.7\n",
      "2     2017-11-20                  7.3            0.0            0.0\n",
      "3     2017-11-21                  8.0            9.9            9.8\n",
      "4     2017-11-22                 13.9            0.5            0.5\n",
      "...          ...                  ...            ...            ...\n",
      "1822  2022-11-14                 10.9            0.0            0.0\n",
      "1823  2022-11-15                  8.9            0.0            0.0\n",
      "1824  2022-11-16                  8.7            1.9            1.9\n",
      "1825  2022-11-17                  9.4            0.4            0.4\n",
      "1826  2022-11-18                  6.3            NaN            NaN\n",
      "\n",
      "[1827 rows x 4 columns]\n"
     ]
    },
    {
     "data": {
      "text/plain": [
       "(1827, 4)"
      ]
     },
     "execution_count": 2,
     "metadata": {},
     "output_type": "execute_result"
    }
   ],
   "source": [
    "a = pd.read_csv('meteo.csv')\n",
    "df = pd.DataFrame(a)\n",
    "print(df)\n",
    "df.shape"
   ]
  },
  {
   "cell_type": "code",
   "execution_count": 4,
   "id": "3b85e70f",
   "metadata": {},
   "outputs": [
    {
     "data": {
      "text/html": [
       "<div>\n",
       "<style scoped>\n",
       "    .dataframe tbody tr th:only-of-type {\n",
       "        vertical-align: middle;\n",
       "    }\n",
       "\n",
       "    .dataframe tbody tr th {\n",
       "        vertical-align: top;\n",
       "    }\n",
       "\n",
       "    .dataframe thead th {\n",
       "        text-align: right;\n",
       "    }\n",
       "</style>\n",
       "<table border=\"1\" class=\"dataframe\">\n",
       "  <thead>\n",
       "    <tr style=\"text-align: right;\">\n",
       "      <th></th>\n",
       "      <th>Date</th>\n",
       "      <th>temperatur_emax(°C)</th>\n",
       "      <th>prec_sum (mm)</th>\n",
       "      <th>rain_sum (mm)</th>\n",
       "    </tr>\n",
       "  </thead>\n",
       "  <tbody>\n",
       "    <tr>\n",
       "      <th>1817</th>\n",
       "      <td>2022-11-09</td>\n",
       "      <td>10.1</td>\n",
       "      <td>0.3</td>\n",
       "      <td>0.3</td>\n",
       "    </tr>\n",
       "    <tr>\n",
       "      <th>1818</th>\n",
       "      <td>2022-11-10</td>\n",
       "      <td>12.6</td>\n",
       "      <td>0.0</td>\n",
       "      <td>0.0</td>\n",
       "    </tr>\n",
       "    <tr>\n",
       "      <th>1819</th>\n",
       "      <td>2022-11-11</td>\n",
       "      <td>12.9</td>\n",
       "      <td>0.0</td>\n",
       "      <td>0.0</td>\n",
       "    </tr>\n",
       "    <tr>\n",
       "      <th>1820</th>\n",
       "      <td>2022-11-12</td>\n",
       "      <td>13.7</td>\n",
       "      <td>0.0</td>\n",
       "      <td>0.0</td>\n",
       "    </tr>\n",
       "    <tr>\n",
       "      <th>1821</th>\n",
       "      <td>2022-11-13</td>\n",
       "      <td>10.7</td>\n",
       "      <td>0.0</td>\n",
       "      <td>0.0</td>\n",
       "    </tr>\n",
       "    <tr>\n",
       "      <th>1822</th>\n",
       "      <td>2022-11-14</td>\n",
       "      <td>10.9</td>\n",
       "      <td>0.0</td>\n",
       "      <td>0.0</td>\n",
       "    </tr>\n",
       "    <tr>\n",
       "      <th>1823</th>\n",
       "      <td>2022-11-15</td>\n",
       "      <td>8.9</td>\n",
       "      <td>0.0</td>\n",
       "      <td>0.0</td>\n",
       "    </tr>\n",
       "    <tr>\n",
       "      <th>1824</th>\n",
       "      <td>2022-11-16</td>\n",
       "      <td>8.7</td>\n",
       "      <td>1.9</td>\n",
       "      <td>1.9</td>\n",
       "    </tr>\n",
       "    <tr>\n",
       "      <th>1825</th>\n",
       "      <td>2022-11-17</td>\n",
       "      <td>9.4</td>\n",
       "      <td>0.4</td>\n",
       "      <td>0.4</td>\n",
       "    </tr>\n",
       "    <tr>\n",
       "      <th>1826</th>\n",
       "      <td>2022-11-18</td>\n",
       "      <td>6.3</td>\n",
       "      <td>NaN</td>\n",
       "      <td>NaN</td>\n",
       "    </tr>\n",
       "  </tbody>\n",
       "</table>\n",
       "</div>"
      ],
      "text/plain": [
       "            Date  temperatur_emax(°C)  prec_sum (mm)  rain_sum (mm)\n",
       "1817  2022-11-09                 10.1            0.3            0.3\n",
       "1818  2022-11-10                 12.6            0.0            0.0\n",
       "1819  2022-11-11                 12.9            0.0            0.0\n",
       "1820  2022-11-12                 13.7            0.0            0.0\n",
       "1821  2022-11-13                 10.7            0.0            0.0\n",
       "1822  2022-11-14                 10.9            0.0            0.0\n",
       "1823  2022-11-15                  8.9            0.0            0.0\n",
       "1824  2022-11-16                  8.7            1.9            1.9\n",
       "1825  2022-11-17                  9.4            0.4            0.4\n",
       "1826  2022-11-18                  6.3            NaN            NaN"
      ]
     },
     "execution_count": 4,
     "metadata": {},
     "output_type": "execute_result"
    }
   ],
   "source": [
    "df.head(10) # ukaze prvych 10 riadkov   # tail(10) poslednych 10 riadkov"
   ]
  },
  {
   "cell_type": "code",
   "execution_count": 7,
   "id": "e0a5e33a",
   "metadata": {},
   "outputs": [
    {
     "name": "stdout",
     "output_type": "stream",
     "text": [
      "36.8\n",
      "28.7\n",
      "-6.2\n"
     ]
    }
   ],
   "source": [
    "print(max(df['temperatur_emax(°C)']))\n",
    "print(max(df['prec_sum (mm)']))\n",
    "print(min(df['temperatur_emax(°C)']))"
   ]
  },
  {
   "cell_type": "code",
   "execution_count": 9,
   "id": "3843d333",
   "metadata": {},
   "outputs": [
    {
     "data": {
      "text/plain": [
       "Date                   2022-11-18\n",
       "temperatur_emax(°C)           6.3\n",
       "prec_sum (mm)                 NaN\n",
       "rain_sum (mm)                 NaN\n",
       "Name: 1826, dtype: object"
      ]
     },
     "execution_count": 9,
     "metadata": {},
     "output_type": "execute_result"
    }
   ],
   "source": [
    "df.iloc[0]\n",
    "df.iloc[1826]  # posledny datum meteodat"
   ]
  },
  {
   "cell_type": "code",
   "execution_count": 13,
   "id": "0a3d3a3f",
   "metadata": {},
   "outputs": [
    {
     "name": "stdout",
     "output_type": "stream",
     "text": [
      "            Date  temperatur_emax(°C)  prec_sum (mm)  rain_sum (mm)\n",
      "194   2018-05-31                 30.3            0.0            0.0\n",
      "205   2018-06-11                 30.5            0.0            0.0\n",
      "214   2018-06-20                 30.6            0.0            0.0\n",
      "215   2018-06-21                 32.8            2.2            2.2\n",
      "228   2018-07-04                 30.8            0.0            0.0\n",
      "...          ...                  ...            ...            ...\n",
      "1732  2022-08-16                 32.1            0.0            0.0\n",
      "1733  2022-08-17                 34.2            0.0            0.0\n",
      "1734  2022-08-18                 35.3            0.0            0.0\n",
      "1735  2022-08-19                 30.4            0.2            0.2\n",
      "1742  2022-08-26                 31.7            0.2            0.2\n",
      "\n",
      "[127 rows x 4 columns]\n",
      "(127, 4)\n"
     ]
    }
   ],
   "source": [
    "viac_ako30 = df[df['temperatur_emax(°C)'] > 30]\n",
    "print(viac_ako30)\n",
    "print(viac_ako30.shape)"
   ]
  },
  {
   "cell_type": "code",
   "execution_count": 49,
   "id": "0ab97f44",
   "metadata": {},
   "outputs": [
    {
     "name": "stdout",
     "output_type": "stream",
     "text": [
      "            Date  temperatur_emax(°C)  prec_sum (mm)  rain_sum (mm)\n",
      "1681  2022-06-26                 30.8            0.0            0.0\n",
      "1682  2022-06-27                 33.7            0.2            0.2\n",
      "1683  2022-06-28                 31.0            0.0            0.0\n",
      "1684  2022-06-29                 35.1            0.5            0.5\n",
      "1685  2022-06-30                 35.3            0.3            0.3\n",
      "1686  2022-07-01                 34.1            4.3            4.3\n",
      "1688  2022-07-03                 31.3            0.0            0.0\n",
      "1698  2022-07-13                 30.8            0.0            0.0\n",
      "1699  2022-07-14                 34.1            0.0            0.0\n",
      "1704  2022-07-19                 32.3            0.0            0.0\n",
      "1705  2022-07-20                 34.7            0.0            0.0\n",
      "1706  2022-07-21                 35.9            0.0            0.0\n",
      "1707  2022-07-22                 34.9            0.0            0.0\n",
      "1708  2022-07-23                 35.1            0.6            0.6\n",
      "1709  2022-07-24                 31.3            0.1            0.1\n",
      "1710  2022-07-25                 33.6            0.0            0.0\n",
      "1714  2022-07-29                 30.3            2.2            2.2\n",
      "1719  2022-08-03                 31.5            0.0            0.0\n",
      "1720  2022-08-04                 33.2            0.0            0.0\n",
      "1721  2022-08-05                 36.0            0.0            0.0\n",
      "1731  2022-08-15                 32.4            0.6            0.6\n",
      "1732  2022-08-16                 32.1            0.0            0.0\n",
      "1733  2022-08-17                 34.2            0.0            0.0\n",
      "1734  2022-08-18                 35.3            0.0            0.0\n",
      "1735  2022-08-19                 30.4            0.2            0.2\n",
      "1742  2022-08-26                 31.7            0.2            0.2\n",
      "(26, 4)\n"
     ]
    }
   ],
   "source": [
    "horuce_dni = list()\n",
    "viac_ako30_2022 = df[(df['temperatur_emax(°C)'] > 30) & (df['Date'] > '2022-01-01') & (df['Date'] < '2022-12-31')]\n",
    "print(viac_ako30_2022)\n",
    "print(viac_ako30_2022.shape)\n",
    "horuce_dni.append(viac_ako30_2022.shape[0])"
   ]
  },
  {
   "cell_type": "code",
   "execution_count": 50,
   "id": "eb03f43e",
   "metadata": {},
   "outputs": [
    {
     "name": "stdout",
     "output_type": "stream",
     "text": [
      "            Date  temperatur_emax(°C)  prec_sum (mm)  rain_sum (mm)\n",
      "1307  2021-06-17                 30.2            0.0            0.0\n",
      "1308  2021-06-18                 31.2            0.0            0.0\n",
      "1309  2021-06-19                 32.4            0.0            0.0\n",
      "1310  2021-06-20                 31.7            0.0            0.0\n",
      "1311  2021-06-21                 31.6            6.6            6.6\n",
      "1312  2021-06-22                 30.4            0.3            0.3\n",
      "1314  2021-06-24                 31.9            0.0            0.0\n",
      "1318  2021-06-28                 32.5            0.0            0.0\n",
      "1319  2021-06-29                 32.0            0.0            0.0\n",
      "1326  2021-07-06                 32.7            0.0            0.0\n",
      "1327  2021-07-07                 30.6            0.0            0.0\n",
      "1328  2021-07-08                 35.6            0.3            0.3\n",
      "1333  2021-07-13                 32.6            0.0            0.0\n",
      "1336  2021-07-16                 30.2            0.0            0.0\n",
      "1346  2021-07-26                 31.3            0.6            0.6\n",
      "1348  2021-07-28                 32.4            1.7            1.7\n",
      "1350  2021-07-30                 30.5            0.0            0.0\n",
      "1364  2021-08-13                 30.6            0.0            0.0\n",
      "1365  2021-08-14                 32.3            0.5            0.5\n",
      "1366  2021-08-15                 32.3            0.0            0.0\n",
      "1367  2021-08-16                 30.4           24.8           24.8\n",
      "(21, 4)\n"
     ]
    }
   ],
   "source": [
    "viac_ako30_2021 = df[(df['temperatur_emax(°C)'] > 30) & (df['Date'].str[0:4] == '2021')]\n",
    "print(viac_ako30_2021)\n",
    "print(viac_ako30_2021.shape)\n",
    "horuce_dni.append(viac_ako30_2021.shape[0])"
   ]
  },
  {
   "cell_type": "code",
   "execution_count": 51,
   "id": "a32e3b74",
   "metadata": {},
   "outputs": [
    {
     "name": "stdout",
     "output_type": "stream",
     "text": [
      "            Date  temperatur_emax(°C)  prec_sum (mm)  rain_sum (mm)\n",
      "953   2020-06-28                 31.0            0.0            0.0\n",
      "956   2020-07-01                 30.7            2.8            2.8\n",
      "961   2020-07-06                 30.3            2.4            2.4\n",
      "965   2020-07-10                 33.5            0.0            0.0\n",
      "983   2020-07-28                 35.2            3.8            3.8\n",
      "985   2020-07-30                 31.4            0.0            0.0\n",
      "986   2020-07-31                 32.2            0.0            0.0\n",
      "987   2020-08-01                 30.3            0.0            0.0\n",
      "993   2020-08-07                 33.0            0.0            0.0\n",
      "994   2020-08-08                 33.4            0.0            0.0\n",
      "995   2020-08-09                 32.9            0.0            0.0\n",
      "996   2020-08-10                 33.2            0.8            0.8\n",
      "998   2020-08-12                 31.6            0.0            0.0\n",
      "999   2020-08-13                 32.0            7.5            7.5\n",
      "1007  2020-08-21                 30.6            0.0            0.0\n",
      "1008  2020-08-22                 31.8            8.4            8.4\n",
      "1012  2020-08-26                 31.4            0.0            0.0\n",
      "(17, 4)\n"
     ]
    }
   ],
   "source": [
    "viac_ako30_2020 = df[(df['temperatur_emax(°C)'] > 30) & (df['Date'].str[0:4] == '2020')]\n",
    "print(viac_ako30_2020)\n",
    "print(viac_ako30_2020.shape)\n",
    "horuce_dni.append(viac_ako30_2020.shape[0])"
   ]
  },
  {
   "cell_type": "code",
   "execution_count": 52,
   "id": "de06a347",
   "metadata": {},
   "outputs": [
    {
     "name": "stdout",
     "output_type": "stream",
     "text": [
      "           Date  temperatur_emax(°C)  prec_sum (mm)  rain_sum (mm)\n",
      "569  2019-06-10                 30.5            0.0            0.0\n",
      "570  2019-06-11                 31.1            0.3            0.3\n",
      "571  2019-06-12                 31.0            0.0            0.0\n",
      "572  2019-06-13                 32.6            0.0            0.0\n",
      "573  2019-06-14                 32.6            0.0            0.0\n",
      "574  2019-06-15                 33.2            2.5            2.5\n",
      "584  2019-06-25                 31.4            0.0            0.0\n",
      "585  2019-06-26                 34.0            0.0            0.0\n",
      "586  2019-06-27                 34.0            0.0            0.0\n",
      "589  2019-06-30                 33.9            0.0            0.0\n",
      "590  2019-07-01                 36.8            3.1            3.1\n",
      "595  2019-07-06                 33.9            0.0            0.0\n",
      "609  2019-07-20                 32.0            0.0            0.0\n",
      "611  2019-07-22                 30.2            0.0            0.0\n",
      "612  2019-07-23                 32.1            0.0            0.0\n",
      "613  2019-07-24                 32.6            0.0            0.0\n",
      "614  2019-07-25                 34.2            0.0            0.0\n",
      "615  2019-07-26                 35.0            8.4            8.4\n",
      "620  2019-07-31                 30.7            2.4            2.4\n",
      "627  2019-08-07                 31.7           10.5           10.5\n",
      "629  2019-08-09                 31.0            0.0            0.0\n",
      "630  2019-08-10                 33.0            4.2            4.2\n",
      "632  2019-08-12                 30.4            0.0            0.0\n",
      "638  2019-08-18                 32.9            0.0            0.0\n",
      "639  2019-08-19                 31.4            0.0            0.0\n",
      "640  2019-08-20                 31.3            0.0            0.0\n",
      "644  2019-08-24                 30.9            3.3            3.3\n",
      "647  2019-08-27                 30.5            0.9            0.9\n",
      "648  2019-08-28                 30.6            0.0            0.0\n",
      "649  2019-08-29                 32.1            4.3            4.3\n",
      "650  2019-08-30                 31.1            0.0            0.0\n",
      "651  2019-08-31                 31.9            0.1            0.1\n",
      "652  2019-09-01                 31.3            3.7            3.7\n",
      "(33, 4)\n"
     ]
    }
   ],
   "source": [
    "viac_ako30_2019 = df[(df['temperatur_emax(°C)'] > 30) & (df['Date'].str[0:4] == '2019')]\n",
    "print(viac_ako30_2019)\n",
    "print(viac_ako30_2019.shape)\n",
    "horuce_dni.append(viac_ako30_2019.shape[0])"
   ]
  },
  {
   "cell_type": "code",
   "execution_count": 53,
   "id": "2acfffe2",
   "metadata": {},
   "outputs": [
    {
     "name": "stdout",
     "output_type": "stream",
     "text": [
      "           Date  temperatur_emax(°C)  prec_sum (mm)  rain_sum (mm)\n",
      "194  2018-05-31                 30.3            0.0            0.0\n",
      "205  2018-06-11                 30.5            0.0            0.0\n",
      "214  2018-06-20                 30.6            0.0            0.0\n",
      "215  2018-06-21                 32.8            2.2            2.2\n",
      "228  2018-07-04                 30.8            0.0            0.0\n",
      "229  2018-07-05                 32.0            3.4            3.4\n",
      "245  2018-07-21                 30.7           10.2           10.2\n",
      "251  2018-07-27                 30.5            0.6            0.6\n",
      "252  2018-07-28                 30.5            0.2            0.2\n",
      "253  2018-07-29                 32.7            0.0            0.0\n",
      "254  2018-07-30                 33.8            0.0            0.0\n",
      "255  2018-07-31                 33.9            0.1            0.1\n",
      "256  2018-08-01                 31.3            2.4            2.4\n",
      "257  2018-08-02                 30.8            0.6            0.6\n",
      "258  2018-08-03                 33.0            0.3            0.3\n",
      "259  2018-08-04                 33.3            0.2            0.2\n",
      "260  2018-08-05                 34.1            2.3            2.3\n",
      "261  2018-08-06                 31.7            0.0            0.0\n",
      "262  2018-08-07                 31.9            0.0            0.0\n",
      "263  2018-08-08                 34.7            0.0            0.0\n",
      "264  2018-08-09                 35.4            0.2            0.2\n",
      "265  2018-08-10                 31.2            2.1            2.1\n",
      "268  2018-08-13                 32.4            0.0            0.0\n",
      "272  2018-08-17                 30.3            0.0            0.0\n",
      "273  2018-08-18                 32.0            0.0            0.0\n",
      "274  2018-08-19                 33.3            0.0            0.0\n",
      "275  2018-08-20                 33.9            0.0            0.0\n",
      "276  2018-08-21                 32.1            0.0            0.0\n",
      "277  2018-08-22                 32.5            0.0            0.0\n",
      "278  2018-08-23                 33.5            0.6            0.6\n",
      "(30, 4)\n"
     ]
    }
   ],
   "source": [
    "viac_ako30_2018 = df[(df['temperatur_emax(°C)'] > 30) & (df['Date'].str[0:4] == '2018')]\n",
    "print(viac_ako30_2018)\n",
    "print(viac_ako30_2018.shape)\n",
    "horuce_dni.append(viac_ako30_2018.shape[0])"
   ]
  },
  {
   "cell_type": "code",
   "execution_count": 19,
   "id": "79829a3d",
   "metadata": {},
   "outputs": [
    {
     "name": "stdout",
     "output_type": "stream",
     "text": [
      "Empty DataFrame\n",
      "Columns: [Date, temperatur_emax(°C), prec_sum (mm), rain_sum (mm)]\n",
      "Index: []\n",
      "(0, 4)\n"
     ]
    }
   ],
   "source": [
    "viac_ako30_2017 = df[(df['temperatur_emax(°C)'] > 30) & (df['Date'].str[0:4] == '2017')]\n",
    "print(viac_ako30_2017)\n",
    "print(viac_ako30_2017.shape)"
   ]
  },
  {
   "cell_type": "markdown",
   "id": "bbc3bb0d",
   "metadata": {},
   "source": [
    "## Vyhodnotenie zrazok"
   ]
  },
  {
   "cell_type": "code",
   "execution_count": 31,
   "id": "0d563157",
   "metadata": {},
   "outputs": [],
   "source": [
    "result = list()\n",
    "zrazky2022 = df[df['Date'].str[0:4] == '2022']\n",
    "val = zrazky2022['prec_sum (mm)'].sum()\n",
    "result.append(val)"
   ]
  },
  {
   "cell_type": "code",
   "execution_count": 32,
   "id": "1a76df91",
   "metadata": {},
   "outputs": [],
   "source": [
    "zrazky2021 = df[df['Date'].str[0:4] == '2021']\n",
    "val = zrazky2021['prec_sum (mm)'].sum()\n",
    "result.append(val)"
   ]
  },
  {
   "cell_type": "code",
   "execution_count": 33,
   "id": "6bf84695",
   "metadata": {},
   "outputs": [],
   "source": [
    "zrazky2020 = df[df['Date'].str[0:4] == '2020']\n",
    "val = zrazky2020['prec_sum (mm)'].sum()\n",
    "result.append(val)"
   ]
  },
  {
   "cell_type": "code",
   "execution_count": 35,
   "id": "cbc10293",
   "metadata": {},
   "outputs": [],
   "source": [
    "zrazky2019 = df[df['Date'].str[0:4] == '2019']\n",
    "val = zrazky2019['prec_sum (mm)'].sum()\n",
    "result.append(val)"
   ]
  },
  {
   "cell_type": "code",
   "execution_count": 36,
   "id": "7165c953",
   "metadata": {},
   "outputs": [],
   "source": [
    "zrazky2018 = df[df['Date'].str[0:4] == '2018']\n",
    "val = zrazky2018['prec_sum (mm)'].sum()\n",
    "result.append(val)"
   ]
  },
  {
   "cell_type": "code",
   "execution_count": 37,
   "id": "71ae83bd",
   "metadata": {},
   "outputs": [
    {
     "name": "stdout",
     "output_type": "stream",
     "text": [
      "[513.2, 615.5999999999999, 715.1000000000001, 611.5, 574.4000000000001]\n"
     ]
    }
   ],
   "source": [
    "print(result)"
   ]
  },
  {
   "cell_type": "code",
   "execution_count": 58,
   "id": "f17b95ed",
   "metadata": {},
   "outputs": [
    {
     "data": {
      "image/png": "[encoded data removed]",
      "text/plain": [
       "<Figure size 1500x500 with 2 Axes>"
      ]
     },
     "metadata": {},
     "output_type": "display_data"
    }
   ],
   "source": [
    "mp.figure(figsize=(15,5))\n",
    "mp.subplot(1,2,1)\n",
    "mp.bar([2022,2021,2020,2019,2018], result, color='red')\n",
    "mp.title('ZRAZKY')\n",
    "\n",
    "mp.subplot(1,2,2)\n",
    "mp.barh([2022,2021,2020,2019,2018], horuce_dni, color='yellow')\n",
    "# [result[0],result[1],result[2],result[3],result[4]]\n",
    "mp.title('HORUCE DNI')\n",
    "mp.show()"
   ]
  },
  {
   "cell_type": "code",
   "execution_count": null,
   "id": "57b165a1",
   "metadata": {},
   "outputs": [],
   "source": [
    "# TODO Prestavka do 19:50"
   ]
  }
 ],
 "metadata": {
  "kernelspec": {
   "display_name": "Python 3 (ipykernel)",
   "language": "python",
   "name": "python3"
  },
  "language_info": {
   "codemirror_mode": {
    "name": "ipython",
    "version": 3
   },
   "file_extension": ".py",
   "mimetype": "text/x-python",
   "name": "python",
   "nbconvert_exporter": "python",
   "pygments_lexer": "ipython3",
   "version": "3.9.13"
  }
 },
 "nbformat": 4,
 "nbformat_minor": 5
}
